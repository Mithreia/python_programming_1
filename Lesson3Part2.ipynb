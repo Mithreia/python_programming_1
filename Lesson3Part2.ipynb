{
 "cells": [
  {
   "cell_type": "markdown",
   "id": "a9dcf9e9-109f-42ad-b8dd-4fcb401336c8",
   "metadata": {},
   "source": [
    "# Lesson 3 Data Types: Part 2\n",
    "\n",
    "\n",
    "### Introducing Lists\n",
    "\n",
    "\n",
    "\n",
    "**List**\n",
    "\n",
    "A *list* is a collection of items in a particular **order**. \n",
    "\n",
    "In python, a list is designated with square brackets []. \n",
    "\n",
    "Let's look at some examples."
   ]
  },
  {
   "cell_type": "code",
   "execution_count": null,
   "id": "a1a376c1-aab5-4f7b-84d5-1f3f35a50f71",
   "metadata": {},
   "outputs": [],
   "source": [
    "cars = ['honda', 'toyota', 'kia', 'tesla', 'mazda', 'ford']"
   ]
  },
  {
   "cell_type": "markdown",
   "id": "8a1e2579-695b-4d7e-920f-9de2057d5101",
   "metadata": {},
   "source": [
    "What happens if we ask python to print the list?"
   ]
  },
  {
   "cell_type": "code",
   "execution_count": null,
   "id": "ddc7de06-9020-4a45-808a-aee34a27b9db",
   "metadata": {},
   "outputs": [],
   "source": [
    "print(cars)"
   ]
  },
  {
   "cell_type": "markdown",
   "id": "818a1635-d806-4575-9eab-d90bdb18fd24",
   "metadata": {},
   "source": [
    "### Accessing Elements in a List\n",
    "\n",
    "Because lists are **ordered** collections, we can access elements in them by using their position in the list, their *index*."
   ]
  },
  {
   "cell_type": "code",
   "execution_count": null,
   "id": "f6fd4201-dd02-41ee-b398-82a2a95ed8db",
   "metadata": {},
   "outputs": [],
   "source": [
    "print(cars[0])"
   ]
  },
  {
   "cell_type": "code",
   "execution_count": null,
   "id": "2b929b9a-2952-4cd4-ba1d-278ad0dac17a",
   "metadata": {},
   "outputs": [],
   "source": [
    "print(cars[5])"
   ]
  },
  {
   "cell_type": "markdown",
   "id": "519362e5-c8bd-49fd-ae79-99f7a32defec",
   "metadata": {},
   "source": [
    "As you can see, lists are indexed starting at 0. This is important to remember. You can access any element in a list \n",
    "by using list_name[index] \n",
    "\n",
    "What do you think will happen if we use the index -1 ?"
   ]
  },
  {
   "cell_type": "code",
   "execution_count": null,
   "id": "b3e068b0-ca20-4785-a52e-07a2a1822454",
   "metadata": {},
   "outputs": [],
   "source": [
    "print(cars[-1])"
   ]
  },
  {
   "cell_type": "markdown",
   "id": "e22a6607-b1f2-40ab-9565-a42d860f6d97",
   "metadata": {},
   "source": [
    "### Modifying, Adding, and Removing Elements of a List\n",
    "\n",
    "Let's replace \"kia\" with \"volkswagon\""
   ]
  },
  {
   "cell_type": "code",
   "execution_count": null,
   "id": "9856de56-b300-4b2d-82dc-9c3ed1125b4e",
   "metadata": {},
   "outputs": [],
   "source": [
    "cars[2] = 'volkswagon'\n",
    "print(cars)"
   ]
  },
  {
   "cell_type": "markdown",
   "id": "4ededb9b-799f-443d-b26b-13aae470e4c5",
   "metadata": {},
   "source": [
    "So we can replace any element of a list be reassigning the element using its index.\n",
    "\n",
    "#### Adding Elements\n",
    "\n",
    "We can add an element to the **end** of a list by using the *append* function"
   ]
  },
  {
   "cell_type": "code",
   "execution_count": null,
   "id": "015724d9-9dfa-410f-9701-c30c11c10c65",
   "metadata": {},
   "outputs": [],
   "source": [
    "cars.append('bmw')\n",
    "print(cars)"
   ]
  },
  {
   "cell_type": "markdown",
   "id": "af9daf3b-7a30-45e6-a620-555bb494e341",
   "metadata": {},
   "source": [
    "We can also add an element to a list by *inserting* it at a position we choose."
   ]
  },
  {
   "cell_type": "code",
   "execution_count": null,
   "id": "f2c767c6-5778-4e28-be08-434ef52d7bb0",
   "metadata": {},
   "outputs": [],
   "source": [
    "cars.insert(0, 'ferrari')\n",
    "print(cars)"
   ]
  },
  {
   "cell_type": "code",
   "execution_count": null,
   "id": "63030e5c-dfcf-430c-84fc-e44e67c9f883",
   "metadata": {},
   "outputs": [],
   "source": [
    "cars.insert(2, 'hyundai')\n",
    "print(cars)"
   ]
  },
  {
   "cell_type": "markdown",
   "id": "a981ba10-48e4-4e42-8eb5-4e2840186bf8",
   "metadata": {},
   "source": [
    "#### Removing Elements\n",
    "\n",
    "You can remove elements using their index with the *del* statement"
   ]
  },
  {
   "cell_type": "code",
   "execution_count": null,
   "id": "19f63384-1370-4900-9bc2-196f287bc8bd",
   "metadata": {},
   "outputs": [],
   "source": [
    "del cars[1]\n",
    "print(cars)"
   ]
  },
  {
   "cell_type": "markdown",
   "id": "1e439730-157d-4134-ae1e-2320760f4200",
   "metadata": {},
   "source": [
    "We can also remove an element of a list if we know it's value using the *remove()* function. For example:"
   ]
  },
  {
   "cell_type": "code",
   "execution_count": null,
   "id": "cce1c058-f758-45d2-969e-ccd1f374c0dd",
   "metadata": {},
   "outputs": [],
   "source": [
    "cars.remove('toyota')\n",
    "print(cars)"
   ]
  },
  {
   "cell_type": "markdown",
   "id": "f3542550-ccd8-4062-8eb3-0d0736931869",
   "metadata": {},
   "source": [
    "There is also a special function that removes the last element in a list. This function is called *pop()*"
   ]
  },
  {
   "cell_type": "code",
   "execution_count": null,
   "id": "a98ac037-d54f-480d-8088-1d67f80b1e8a",
   "metadata": {},
   "outputs": [],
   "source": [
    "cars.pop()\n",
    "print(cars)"
   ]
  },
  {
   "cell_type": "markdown",
   "id": "e49a3cfe-6136-4d98-bcce-c1004ef4feeb",
   "metadata": {},
   "source": [
    "---\n",
    "# Sorting Elements in a List\n",
    "\n",
    "There are two built in functions that can be used to automatically sort a list, *sort()* and *sorted()*\n",
    "\n",
    "*sort()* is used to permanently sort the list. It will rewrite the original list.\n",
    "\n",
    "*sorted()* temporarily sorts a list"
   ]
  },
  {
   "cell_type": "code",
   "execution_count": null,
   "id": "4ed4406e-45ca-4c2a-84e0-3875e8f87aa3",
   "metadata": {},
   "outputs": [],
   "source": [
    "print(cars)"
   ]
  },
  {
   "cell_type": "markdown",
   "id": "7a52ee17-9bd1-49c2-8135-55343791f815",
   "metadata": {},
   "source": [
    "**Using the *sorted()* function**"
   ]
  },
  {
   "cell_type": "code",
   "execution_count": null,
   "id": "16f11589-9228-48c5-9d1d-aa6bae533934",
   "metadata": {},
   "outputs": [],
   "source": [
    "print(sorted(cars))"
   ]
  },
  {
   "cell_type": "code",
   "execution_count": null,
   "id": "03f4740f-f48c-4543-9e8a-38cd3423d369",
   "metadata": {},
   "outputs": [],
   "source": [
    "print(cars)"
   ]
  },
  {
   "cell_type": "markdown",
   "id": "735f1a51-312f-4793-baeb-64a26ba43227",
   "metadata": {},
   "source": [
    "**Using the *sort()* function**"
   ]
  },
  {
   "cell_type": "code",
   "execution_count": null,
   "id": "c2bce1af-4305-4c78-8ce3-1b2a41d36473",
   "metadata": {},
   "outputs": [],
   "source": [
    "cars.sort()\n",
    "print(cars)"
   ]
  },
  {
   "cell_type": "markdown",
   "id": "865deb45-b9eb-4f89-8201-1b7e815c282e",
   "metadata": {},
   "source": [
    "**You can also use the *sort()* function to sort a list in reverse**"
   ]
  },
  {
   "cell_type": "code",
   "execution_count": null,
   "id": "3641bb4d-ba94-479b-83dd-40758c9b7a2a",
   "metadata": {},
   "outputs": [],
   "source": [
    "cars.sort(reverse=True)\n",
    "print(cars)"
   ]
  },
  {
   "cell_type": "markdown",
   "id": "11a84cd7-52a0-444d-a902-847a80c7a8f6",
   "metadata": {},
   "source": [
    "### Finding the length of a list. AKA the number of elements in a list"
   ]
  },
  {
   "cell_type": "code",
   "execution_count": null,
   "id": "3d0f0983-0038-4ed2-a174-70c379cd319b",
   "metadata": {},
   "outputs": [],
   "source": [
    "print(len(cars))"
   ]
  }
 ],
 "metadata": {
  "kernelspec": {
   "display_name": "Python 3 (ipykernel)",
   "language": "python",
   "name": "python3"
  },
  "language_info": {
   "codemirror_mode": {
    "name": "ipython",
    "version": 3
   },
   "file_extension": ".py",
   "mimetype": "text/x-python",
   "name": "python",
   "nbconvert_exporter": "python",
   "pygments_lexer": "ipython3",
   "version": "3.12.5"
  }
 },
 "nbformat": 4,
 "nbformat_minor": 5
}
