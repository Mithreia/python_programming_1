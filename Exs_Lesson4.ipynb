{
 "cells": [
  {
   "cell_type": "markdown",
   "id": "2143f504-8af2-4256-804b-d47013237a73",
   "metadata": {},
   "source": [
    "# Lesson 4 : Exercises with Lists using For Loops"
   ]
  },
  {
   "cell_type": "markdown",
   "id": "c9e313de-d9d7-4a8d-be1a-7279b59d397e",
   "metadata": {},
   "source": [
    "## Exercises\n",
    "\n",
    "#### 1. Knowing what we know from our lessons. Can you write a program that generates a random list of 1000 values in the range of (0,500) and prints the largest value?\n",
    "#### Do NOT print the list, only the max value."
   ]
  },
  {
   "cell_type": "markdown",
   "id": "8483b0ce-40ee-4c8a-ac85-4a6cff652dab",
   "metadata": {},
   "source": [
    "You may use the `sort()` function but not the `max()` function but you may use it to check your work."
   ]
  },
  {
   "cell_type": "code",
   "execution_count": null,
   "id": "69774fc7-7588-4b9c-8bbd-d1c70dfc8ae9",
   "metadata": {},
   "outputs": [],
   "source": []
  },
  {
   "cell_type": "markdown",
   "id": "5a08573a-28a3-4011-bc5e-04de27716800",
   "metadata": {},
   "source": [
    "#### 2. Using the list from Exercise 1, write a program that returns the Sum of the values in a list. \n",
    "\n",
    "$$\\begin{equation} \\sum_{i=0}^N x_i \\end{equation}$$\n",
    "\n",
    "You cannot use the `sum()` function but you can use it to check if you are correct"
   ]
  },
  {
   "cell_type": "code",
   "execution_count": null,
   "id": "056de573-690d-4d8b-8fd8-8f416de6ed86",
   "metadata": {},
   "outputs": [],
   "source": []
  },
  {
   "cell_type": "markdown",
   "id": "93f932df-d4b5-4c43-8298-06448fa6c645",
   "metadata": {},
   "source": [
    "#### 3. Use the same list you created in Exercise 1, write a program that returns the average value of the numbers in the list.\n",
    "\n",
    "$$\\begin{equation} \\frac{\\sum_{i=0}^N x_i}{N} \\end{equation}$$\n",
    "\n",
    "where x_i s an element at list[i] and N is the total number of elements in a list.\n",
    "\n",
    "If you want to check if you are correct, you will have to use the following:\n",
    "\n",
    "`import numpy as np`\n",
    " then you can use `np.mean()` to get the average"
   ]
  },
  {
   "cell_type": "code",
   "execution_count": null,
   "id": "f60427a4-a332-49d3-9936-2c2f4b4ebdbb",
   "metadata": {},
   "outputs": [],
   "source": []
  },
  {
   "cell_type": "code",
   "execution_count": null,
   "id": "56ed2954-7d4d-41cc-a71e-7e0c60c0f73f",
   "metadata": {},
   "outputs": [],
   "source": [
    "import numpy as np\n",
    "\n",
    "np.mean(your_list)"
   ]
  },
  {
   "cell_type": "markdown",
   "id": "6b32c6a2-c25a-48f5-a56f-ed856eea972a",
   "metadata": {},
   "source": [
    "#### 4. Write a program that creates a list of odd numbers from 1 - 100."
   ]
  },
  {
   "cell_type": "code",
   "execution_count": null,
   "id": "ed4a0dc1-34de-4a07-ba89-20b54301f316",
   "metadata": {},
   "outputs": [],
   "source": []
  },
  {
   "cell_type": "markdown",
   "id": "14cec6dd-9dab-498f-bf83-48ae2d360c53",
   "metadata": {},
   "source": [
    "#### 5. A number raised to the third power is called a cube. For example the \"cube of 2\" or \"two cubed\" is $$2^3$$ which in python is written using 2**3. Make a list of the first 10 cubes. Meaning, generate a list of cubes for the numbers 1-10."
   ]
  },
  {
   "cell_type": "code",
   "execution_count": null,
   "id": "51e71480-c22f-4ff7-8a29-9b8ae0efa04d",
   "metadata": {},
   "outputs": [],
   "source": []
  },
  {
   "cell_type": "markdown",
   "id": "06137bda-9124-4f02-8c1b-d42cb92d24e1",
   "metadata": {},
   "source": [
    "### 6. Special Assignment: Test if you have MCE. Generate the list from exercise 5 using **List Comprehension**.\n",
    "\n",
    "#### *List Comprehension* allows you to generate the same list in only 1 line of code. A list comprehension combines the *for loop* and the creation of new elements in one line, and automatically appends each new element. \n",
    "\n",
    "#### Look at the example below that generates the squares of the numbers from 1 - 10, where the squares are $$x^2$$.\n",
    "\n"
   ]
  },
  {
   "cell_type": "code",
   "execution_count": 2,
   "id": "1b255f06-38e0-48e3-8c31-55623b8a8f62",
   "metadata": {},
   "outputs": [
    {
     "name": "stdout",
     "output_type": "stream",
     "text": [
      "[1, 4, 9, 16, 25, 36, 49, 64, 81, 100]\n"
     ]
    }
   ],
   "source": [
    "### Example using list comprehension to find the squares of the numbers from 1-10\n",
    "\n",
    "squares = [x**2 for x in range(1,11)]\n",
    "print(squares)"
   ]
  },
  {
   "cell_type": "code",
   "execution_count": null,
   "id": "e611df5b-2cc7-4b35-968e-88c1dadbe27e",
   "metadata": {},
   "outputs": [],
   "source": []
  }
 ],
 "metadata": {
  "kernelspec": {
   "display_name": "Python 3 (ipykernel)",
   "language": "python",
   "name": "python3"
  },
  "language_info": {
   "codemirror_mode": {
    "name": "ipython",
    "version": 3
   },
   "file_extension": ".py",
   "mimetype": "text/x-python",
   "name": "python",
   "nbconvert_exporter": "python",
   "pygments_lexer": "ipython3",
   "version": "3.12.5"
  }
 },
 "nbformat": 4,
 "nbformat_minor": 5
}
