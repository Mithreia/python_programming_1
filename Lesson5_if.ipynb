{
 "cells": [
  {
   "cell_type": "markdown",
   "id": "d1810816-02e9-4f94-811e-0d7e4ff39549",
   "metadata": {},
   "source": [
    "# Lesson 5: If Statements\n",
    "\n",
    "### If statements are used to test if certain conditions are True. They are logic tests that come in very handy\n",
    "\n",
    "#### If \"This is True\":\n",
    "####     Do something\n",
    "#### If False:\n",
    "####    Do this instead\n",
    "\n",
    "Let's look at some examples"
   ]
  },
  {
   "cell_type": "code",
   "execution_count": 1,
   "id": "0018a911-43ca-4764-986d-a4d9fbf44132",
   "metadata": {},
   "outputs": [
    {
     "name": "stdout",
     "output_type": "stream",
     "text": [
      "Audi\n",
      "BMW\n",
      "Subaru\n",
      "Toyota\n"
     ]
    }
   ],
   "source": [
    "cars = ['audi', 'bmw', 'subaru', 'toyota']\n",
    "\n",
    "for car in cars:\n",
    "    if car == 'bmw':\n",
    "        print(car.upper())  ### str.upper() method , makes all the letters uppercase\n",
    "    else:\n",
    "        print(car.title())  ###  str.title() method, makes just the first letter uppercase"
   ]
  },
  {
   "cell_type": "markdown",
   "id": "7e5c1793-4d8f-416b-88d9-092d87cc553d",
   "metadata": {},
   "source": [
    "#### Case matters when comparing strings, so you have to be careful."
   ]
  },
  {
   "cell_type": "code",
   "execution_count": 2,
   "id": "0b07d776-7a9b-4f26-9f31-db49aa3add45",
   "metadata": {},
   "outputs": [
    {
     "data": {
      "text/plain": [
       "False"
      ]
     },
     "execution_count": 2,
     "metadata": {},
     "output_type": "execute_result"
    }
   ],
   "source": [
    "car = 'audi'\n",
    "car == 'Audi'"
   ]
  },
  {
   "cell_type": "code",
   "execution_count": 3,
   "id": "66b57484-320e-4870-9b5e-3e1c4128650c",
   "metadata": {},
   "outputs": [
    {
     "data": {
      "text/plain": [
       "False"
      ]
     },
     "execution_count": 3,
     "metadata": {},
     "output_type": "execute_result"
    }
   ],
   "source": [
    "'audi' == 'Audi'"
   ]
  },
  {
   "cell_type": "markdown",
   "id": "91d36b2e-c912-4574-9cab-63bfd76fca4c",
   "metadata": {},
   "source": [
    "#### So if you are going to compare *strings* make sure you use either `str.upper()` or `str.lower()` methods before you try to do the comparison."
   ]
  },
  {
   "cell_type": "code",
   "execution_count": 4,
   "id": "539406d2-061b-49f3-959a-3556e6ef6f66",
   "metadata": {},
   "outputs": [
    {
     "data": {
      "text/plain": [
       "True"
      ]
     },
     "execution_count": 4,
     "metadata": {},
     "output_type": "execute_result"
    }
   ],
   "source": [
    "car = 'Audi'  ## Assignment statement\n",
    "car.lower() == 'audi'"
   ]
  },
  {
   "cell_type": "code",
   "execution_count": 5,
   "id": "b4bb638f-5e2c-4410-abc2-c15dff8e2118",
   "metadata": {},
   "outputs": [
    {
     "data": {
      "text/plain": [
       "'Audi'"
      ]
     },
     "execution_count": 5,
     "metadata": {},
     "output_type": "execute_result"
    }
   ],
   "source": [
    "car"
   ]
  },
  {
   "cell_type": "markdown",
   "id": "415d458e-b67f-4fa1-b045-2f87e87385e6",
   "metadata": {},
   "source": [
    "The `str.lower()` method does not change the actual variable unless you re-assign it"
   ]
  },
  {
   "cell_type": "code",
   "execution_count": 6,
   "id": "6a8e19ce-4f52-4d80-965c-cc89d0f42362",
   "metadata": {},
   "outputs": [
    {
     "data": {
      "text/plain": [
       "True"
      ]
     },
     "execution_count": 6,
     "metadata": {},
     "output_type": "execute_result"
    }
   ],
   "source": [
    "car = 'Audi'\n",
    "car = car.lower()\n",
    "car == 'audi'"
   ]
  },
  {
   "cell_type": "markdown",
   "id": "7962b1f9-c56d-48a0-9cb7-5a9ea7d118ec",
   "metadata": {},
   "source": [
    "### You can use if statements to see if a certain element is in a list or even if a certain letter is in a string."
   ]
  },
  {
   "cell_type": "code",
   "execution_count": 8,
   "id": "9db62f14-a06a-4b4a-a4d4-30f155d58784",
   "metadata": {},
   "outputs": [
    {
     "name": "stdout",
     "output_type": "stream",
     "text": [
      "boo\n"
     ]
    }
   ],
   "source": [
    "favorite_animals = ['bear', 'horse', 'cat', 'dog']\n",
    "\n",
    "if 'lion' in favorite_animals:\n",
    "    print(\"awesome\")\n",
    "else:\n",
    "    print(\"boo\")"
   ]
  },
  {
   "cell_type": "code",
   "execution_count": 9,
   "id": "2c77650f-37d0-4da4-9d1a-823ed990c807",
   "metadata": {},
   "outputs": [
    {
     "name": "stdout",
     "output_type": "stream",
     "text": [
      "Yes! I love cats\n"
     ]
    }
   ],
   "source": [
    "if 'cat' in favorite_animals:\n",
    "    print(\"Yes! I love cats\")"
   ]
  },
  {
   "cell_type": "code",
   "execution_count": 10,
   "id": "1c398b48-3cd5-408b-b3fc-34ef40a3444c",
   "metadata": {},
   "outputs": [
    {
     "name": "stdout",
     "output_type": "stream",
     "text": [
      "Sorry, no 'e'\n"
     ]
    }
   ],
   "source": [
    "animal = 'lizard'\n",
    "\n",
    "if 'e' in animal:\n",
    "    print(\"Yes! There is an 'e' in the animal name\")\n",
    "else:\n",
    "    print(\"Sorry, no 'e'\")"
   ]
  },
  {
   "cell_type": "markdown",
   "id": "5feb53a2-dcb3-4396-9d0a-3024807bfe8b",
   "metadata": {},
   "source": [
    "### Let's look at some other examples"
   ]
  },
  {
   "cell_type": "code",
   "execution_count": 14,
   "id": "c2aabea5-391b-4354-8d8a-5d4fe29b63b6",
   "metadata": {},
   "outputs": [
    {
     "name": "stdout",
     "output_type": "stream",
     "text": [
      "You are ancient\n"
     ]
    }
   ],
   "source": [
    "age = 80\n",
    "\n",
    "if age < 30:\n",
    "    print(\"You are Young!\")\n",
    "elif age >= 30 and age < 50:\n",
    "    print(\"You are Ok\")\n",
    "else:\n",
    "    print(\"You are ancient\")"
   ]
  }
 ],
 "metadata": {
  "kernelspec": {
   "display_name": "Python 3 (ipykernel)",
   "language": "python",
   "name": "python3"
  },
  "language_info": {
   "codemirror_mode": {
    "name": "ipython",
    "version": 3
   },
   "file_extension": ".py",
   "mimetype": "text/x-python",
   "name": "python",
   "nbconvert_exporter": "python",
   "pygments_lexer": "ipython3",
   "version": "3.12.5"
  }
 },
 "nbformat": 4,
 "nbformat_minor": 5
}
