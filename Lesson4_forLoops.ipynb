{
 "cells": [
  {
   "cell_type": "markdown",
   "id": "9c67a6bc-a812-4e76-9b7e-ab5d69e039bc",
   "metadata": {},
   "source": [
    "# Lesson 4 Working with Lists\n",
    "\n",
    "In the previous lesson, we learned what a list was, how to access elements in a list by index or value, and how to add, modify, or remove an element from a list. \n",
    "\n",
    "Now we will learn something way more powerful. Loops.\n",
    "\n",
    "\n",
    "### There are 2 ways to loop through a list, by element or by index\n",
    "\n",
    "Let's look at some examples\n",
    "\n",
    "\n",
    "#### Examples by element\n",
    "\n",
    "First assign a variable to a list. In python the best practice is to use a word that makes sense and that is plural if the list contains more than 1 element."
   ]
  },
  {
   "cell_type": "code",
   "execution_count": 1,
   "id": "de9fb827-a0bb-40c8-950c-05429ac83f9d",
   "metadata": {},
   "outputs": [],
   "source": [
    "bears = ['brown', 'american black', 'polar', 'asiatic black', 'spectacled', 'panda', 'sloth', 'sun']"
   ]
  },
  {
   "cell_type": "markdown",
   "id": "a566d95d-6b19-4783-9e05-e66274805c17",
   "metadata": {},
   "source": [
    "Let's loop over the list by element. You can call the looping variable anything you want, but it is good coding practice for it to make sense to other people reading the code."
   ]
  },
  {
   "cell_type": "code",
   "execution_count": 2,
   "id": "bb8c7ce7-60d4-469d-9611-b8236b4f09a5",
   "metadata": {},
   "outputs": [
    {
     "name": "stdout",
     "output_type": "stream",
     "text": [
      "brown\n",
      "american black\n",
      "polar\n",
      "asiatic black\n",
      "spectacled\n",
      "panda\n",
      "sloth\n",
      "sun\n"
     ]
    }
   ],
   "source": [
    "for bear in bears:\n",
    "    print(bear)"
   ]
  },
  {
   "cell_type": "markdown",
   "id": "319b4aef-8599-42a0-b35e-2a1558b9b9dd",
   "metadata": {},
   "source": [
    "As I said, we can loop over the list choosing whatever variable we like. Here are some examples that don't make as much sense."
   ]
  },
  {
   "cell_type": "code",
   "execution_count": null,
   "id": "8311b0ee-627d-43be-a392-aab0663b89a4",
   "metadata": {},
   "outputs": [],
   "source": [
    "for cat in bears:\n",
    "    print(cat)"
   ]
  },
  {
   "cell_type": "code",
   "execution_count": null,
   "id": "ddda2c17-be1c-4fa8-8d36-ff39f2f0d858",
   "metadata": {},
   "outputs": [],
   "source": [
    "for x in bears:\n",
    "    print(x)"
   ]
  },
  {
   "cell_type": "markdown",
   "id": "369be21d-1add-4971-9ec8-357e29aade13",
   "metadata": {},
   "source": [
    "So the syntax for a for loop is `for [variable] in [list]:`"
   ]
  },
  {
   "cell_type": "code",
   "execution_count": null,
   "id": "27e4f793-148c-40f7-9ca5-3ab41238ea13",
   "metadata": {},
   "outputs": [],
   "source": [
    "You must also put a `:` at the end of the for loop statement."
   ]
  },
  {
   "cell_type": "markdown",
   "id": "2d92db82-2f41-412c-9d67-760227ce68f5",
   "metadata": {},
   "source": [
    "#### **FYI** The words `for` and `in` are key words in python and cannot be used as variables."
   ]
  },
  {
   "cell_type": "code",
   "execution_count": null,
   "id": "132ef3be-d4cd-471d-87ed-9275ac2d188a",
   "metadata": {},
   "outputs": [],
   "source": [
    "for = 'three'"
   ]
  },
  {
   "cell_type": "markdown",
   "id": "841817b0-491c-4f09-8334-9b9d7286f0bf",
   "metadata": {},
   "source": [
    "### A common bug is forgetting to indent when using for loops. "
   ]
  },
  {
   "cell_type": "code",
   "execution_count": null,
   "id": "037b4e49-1267-41c6-b3b4-a25e46d94ebf",
   "metadata": {},
   "outputs": [],
   "source": [
    "for bear in bears:\n",
    "print(bear)"
   ]
  },
  {
   "cell_type": "markdown",
   "id": "55006dbf-4ed8-4462-bd7f-479c78c2c47f",
   "metadata": {},
   "source": [
    "Here the variable`bear` does not exist outside the *for loop* so Python will throw an error. But if you make an assignment within the for loop, python will not."
   ]
  },
  {
   "cell_type": "code",
   "execution_count": null,
   "id": "da91fc9b-3c6a-4237-9d83-1743ca978481",
   "metadata": {},
   "outputs": [],
   "source": [
    "for bear in bears:\n",
    "    bear = bear.upper()\n",
    "    print(bear)"
   ]
  },
  {
   "cell_type": "code",
   "execution_count": null,
   "id": "1c8f68da-32f2-4bbb-b613-1f079b6b42e6",
   "metadata": {},
   "outputs": [],
   "source": [
    "for bear in bears:\n",
    "    bear = bear.upper()\n",
    "print(bear)"
   ]
  },
  {
   "cell_type": "markdown",
   "id": "5add206d-8ebb-475e-b71f-247066911b7d",
   "metadata": {},
   "source": [
    "#### Python can also iterate over letters in a string."
   ]
  },
  {
   "cell_type": "code",
   "execution_count": null,
   "id": "a5737503-fe3b-4b44-87dd-9047da34c4c3",
   "metadata": {},
   "outputs": [],
   "source": [
    "bear = \"panda\"\n",
    "\n",
    "for letter in bear:\n",
    "    print(letter)"
   ]
  },
  {
   "cell_type": "markdown",
   "id": "fba74419-a09e-4c64-b19c-6d0ae9c6415f",
   "metadata": {},
   "source": [
    "#### You can also \"nest\" loops"
   ]
  },
  {
   "cell_type": "code",
   "execution_count": null,
   "id": "d48603f4-b5c5-44ae-87b9-28bd6434f303",
   "metadata": {},
   "outputs": [],
   "source": [
    "bears = ['panda', 'brown']\n",
    "for bear in bears:\n",
    "    for letter in bear:\n",
    "        print(letter)"
   ]
  },
  {
   "cell_type": "markdown",
   "id": "633c8d8c-71e3-497d-b287-a107b3df0292",
   "metadata": {},
   "source": [
    "#### You can even make a new list"
   ]
  },
  {
   "cell_type": "code",
   "execution_count": null,
   "id": "28e6f452-10a3-47bb-9d28-ac6b0a155fc6",
   "metadata": {},
   "outputs": [],
   "source": [
    "bears = ['panda', 'brown']\n",
    "\n",
    "letters_in_bears = []\n",
    "\n",
    "for bear in bears:\n",
    "    for letter in bear:\n",
    "        letters_in_bears.append(letter)\n",
    "\n",
    "print(letters_in_bears)\n"
   ]
  },
  {
   "cell_type": "markdown",
   "id": "9aea8453-65d5-4c01-9b6e-28bc869613e1",
   "metadata": {},
   "source": [
    "## Using index to loop\n",
    "\n",
    "#### To use index, usually denoted as `i`, you must know the length of the list (the number of elements that the list contains.)\n",
    "\n",
    "There are 2 functions that you will need to use, `len()` and `range()`"
   ]
  },
  {
   "cell_type": "code",
   "execution_count": null,
   "id": "d8a2804c-23b3-44cd-a101-dacfb0a51ba9",
   "metadata": {},
   "outputs": [],
   "source": [
    "bears = ['brown', 'american black', 'polar', 'asiatic black', 'spectacled', 'panda', 'sloth', 'sun']"
   ]
  },
  {
   "cell_type": "code",
   "execution_count": null,
   "id": "9d489c56-685f-4930-880b-17eb293175b2",
   "metadata": {},
   "outputs": [],
   "source": [
    "length = len(bears)\n",
    "print(length)"
   ]
  },
  {
   "cell_type": "code",
   "execution_count": null,
   "id": "85863ab8-3b02-4b6a-9079-2b94d94f16ea",
   "metadata": {},
   "outputs": [],
   "source": [
    "for i in range(length):\n",
    "    print(i)"
   ]
  },
  {
   "cell_type": "code",
   "execution_count": null,
   "id": "5fa58d91-39d4-44f0-ae34-a4969ab8e94e",
   "metadata": {},
   "outputs": [],
   "source": [
    "for i in range(len(bears)):\n",
    "    element = bears[i]\n",
    "    print(element)"
   ]
  },
  {
   "cell_type": "markdown",
   "id": "42ed9190-fc06-4b4f-a734-7221a5990254",
   "metadata": {},
   "source": [
    "#### The range() function in python can take 3 arguments:\n",
    "1. start [optional] --> default = 0\n",
    "2. stop [required]\n",
    "3. step [optional] --> default = 1\n",
    "\n",
    "   `range(start, stop, step)`"
   ]
  },
  {
   "cell_type": "code",
   "execution_count": null,
   "id": "59f56da4-5a4e-42ac-855b-6a35f725b31e",
   "metadata": {},
   "outputs": [],
   "source": [
    "for i in range(10):\n",
    "    print(i)"
   ]
  },
  {
   "cell_type": "markdown",
   "id": "b4f71d9a-89bf-4d4a-8b3d-70640ad4b4b9",
   "metadata": {},
   "source": [
    "The python range() function is NOT inclusive. So you must remember that the stop parameter will not be included. If range(5), 5 will not be included because python starts it's indexing at 0, not 1. So if you want to generate the numbers 1-5, you can write as follows:"
   ]
  },
  {
   "cell_type": "code",
   "execution_count": null,
   "id": "eab4cc5f-193e-4606-be0a-4ae2cfc85530",
   "metadata": {},
   "outputs": [],
   "source": [
    "for i in range(1,6):\n",
    "    print(i)"
   ]
  },
  {
   "cell_type": "code",
   "execution_count": null,
   "id": "dbbb0da0-b89c-4c97-a14d-ccbaebb2d27c",
   "metadata": {},
   "outputs": [],
   "source": [
    "length = 5"
   ]
  },
  {
   "cell_type": "code",
   "execution_count": null,
   "id": "f96eb9c9-8ed7-4389-bb6f-361278b89171",
   "metadata": {},
   "outputs": [],
   "source": [
    "for i in range(1,length+1):\n",
    "    print(i)"
   ]
  },
  {
   "cell_type": "markdown",
   "id": "06e44857-fcaf-4e03-85fb-705903a53c5b",
   "metadata": {},
   "source": [
    "### What if you wanted to generate a list of only even numbers up to a max limit? Or maybe you want the 8 times table?"
   ]
  },
  {
   "cell_type": "code",
   "execution_count": null,
   "id": "f17cd7c0-58ef-4a47-946a-a4bd30ca5a9b",
   "metadata": {},
   "outputs": [],
   "source": [
    "for i in range(2,20,2):\n",
    "    print(i)\n"
   ]
  },
  {
   "cell_type": "code",
   "execution_count": null,
   "id": "e6b86e13-e3d8-4caa-8207-37394f960857",
   "metadata": {},
   "outputs": [],
   "source": [
    "for i in range(8,100,8):\n",
    "    print(i)"
   ]
  },
  {
   "cell_type": "markdown",
   "id": "9a460fe6-b02f-4ce5-9027-0608d7e076d9",
   "metadata": {},
   "source": [
    "### We can do operations on numbers within a loop to make a list.\n",
    "\n",
    "Let's make a list of squares using numbers from 1 to 10."
   ]
  },
  {
   "cell_type": "code",
   "execution_count": null,
   "id": "4105c45e-ed4d-4c28-80eb-86191da3b97f",
   "metadata": {},
   "outputs": [],
   "source": [
    "squares = []\n",
    "for i in range(1,11):\n",
    "    square = i**2\n",
    "    squares.append(square)\n",
    "\n",
    "print(squares)"
   ]
  },
  {
   "cell_type": "markdown",
   "id": "8097ee6f-284f-413b-8259-5af51d383e25",
   "metadata": {},
   "source": [
    "#### A couple more examples with a list of numbers"
   ]
  },
  {
   "cell_type": "code",
   "execution_count": null,
   "id": "d34c2b7d-175f-460d-9583-d78018f0fb39",
   "metadata": {},
   "outputs": [],
   "source": [
    "import random    ### Importing a python library called random\n",
    "\n",
    "#### making a list of random integers\n",
    "numbers = []\n",
    "for i in range(20):\n",
    "    random_number = random.randint(0,100)   ### random.randint(min,max) is a func that returns a random integer in range of min-max\n",
    "    numbers.append(random_number)\n",
    "\n",
    "print(numbers)\n",
    "    "
   ]
  },
  {
   "cell_type": "code",
   "execution_count": null,
   "id": "86845866-1ab3-47d2-a792-3f69f03aaf9c",
   "metadata": {},
   "outputs": [],
   "source": [
    "numbers.sort()  ### you can use the sort() function\n",
    "print(numbers)"
   ]
  },
  {
   "cell_type": "code",
   "execution_count": null,
   "id": "d89101fe-cd71-4801-8f07-5c129b98c731",
   "metadata": {},
   "outputs": [],
   "source": [
    "numbers.sort(reverse=True)\n",
    "print(numbers)\n",
    "\n",
    "import numpy as np\n",
    "print(max(numbers))\n",
    "print(sum(numbers))\n",
    "print(np.mean(numbers))"
   ]
  },
  {
   "cell_type": "markdown",
   "id": "481b2893-0014-4d57-907a-1218af763ecb",
   "metadata": {},
   "source": [
    "## Bonus: Fancy ways of working with list using `enumerate()` and `map()`"
   ]
  },
  {
   "cell_type": "code",
   "execution_count": 1,
   "id": "1a3dfc86-b185-4e42-b4bc-1bb3bb91af02",
   "metadata": {},
   "outputs": [
    {
     "name": "stdout",
     "output_type": "stream",
     "text": [
      "0 orange\n",
      "1 black\n",
      "2 calico\n",
      "3 short hair\n",
      "4 long hair\n"
     ]
    }
   ],
   "source": [
    "### Enumerate is used if you want to have BOTH the index and the value to work with within a single for loop\n",
    "\n",
    "cats = ['orange', 'black', 'calico', 'short hair', 'long hair']\n",
    "\n",
    "for index, value in enumerate(cats):\n",
    "    print(index, value)"
   ]
  },
  {
   "cell_type": "code",
   "execution_count": 2,
   "id": "3abdea57-876a-4835-ba75-d32f1b909062",
   "metadata": {},
   "outputs": [
    {
     "name": "stdout",
     "output_type": "stream",
     "text": [
      "[1, 10, 16, 22, 4, 25, 31]\n"
     ]
    }
   ],
   "source": [
    "### The map() function is a way to simplify code \n",
    "\n",
    "### 1. Given a set of x values, find y if y = 3x -5\n",
    "\n",
    "### The map() function takes a function and an iterable (list, set, dict, tuple). It is an easy way to use a function on every element\n",
    "### in the iterable. \n",
    "### So here, for every x value we need to find the correspoding y value by putting x into the formula 3x - 5.\n",
    "\n",
    "### There are 2 ways we can do this using the map() function. 1. Write a function or use lambda.\n",
    "\n",
    "def formula(x):\n",
    "    \n",
    "    y = 3 * x - 5\n",
    "    \n",
    "    return y\n",
    "\n",
    "\n",
    "x_values = [2, 5, 7, 9, 3, 10, 12]\n",
    "\n",
    "### Without using map, you would set up a for loop\n",
    "\n",
    "y_values = []\n",
    "\n",
    "for x in x_values:\n",
    "    y = formula(x)\n",
    "    y_values.append(y)\n",
    "\n",
    "print(y_values)"
   ]
  },
  {
   "cell_type": "code",
   "execution_count": 3,
   "id": "68cdaf53-abfb-4744-90ef-1b384250f985",
   "metadata": {},
   "outputs": [
    {
     "name": "stdout",
     "output_type": "stream",
     "text": [
      "[1, 10, 16, 22, 4, 25, 31]\n"
     ]
    }
   ],
   "source": [
    "### Using the map() function, we don't have to write a for loop at all. Only 1 line\n",
    "\n",
    "y_values = list(map(formula, x_values))\n",
    "\n",
    "print(y_values)"
   ]
  },
  {
   "cell_type": "code",
   "execution_count": 4,
   "id": "bb813d4e-1fe1-41cf-a47a-666c265d8cbc",
   "metadata": {},
   "outputs": [
    {
     "name": "stdout",
     "output_type": "stream",
     "text": [
      "[1, 10, 16, 22, 4, 25, 31]\n"
     ]
    }
   ],
   "source": [
    "### You can make this even more simple by using a lambda function, so you don;t have to write the formula() function\n",
    "\n",
    "y_values = list(map(lambda x: 3*x-5, x_values))\n",
    "print(y_values)"
   ]
  }
 ],
 "metadata": {
  "kernelspec": {
   "display_name": "Python 3 (ipykernel)",
   "language": "python",
   "name": "python3"
  },
  "language_info": {
   "codemirror_mode": {
    "name": "ipython",
    "version": 3
   },
   "file_extension": ".py",
   "mimetype": "text/x-python",
   "name": "python",
   "nbconvert_exporter": "python",
   "pygments_lexer": "ipython3",
   "version": "3.12.5"
  }
 },
 "nbformat": 4,
 "nbformat_minor": 5
}
